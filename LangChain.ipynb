{
  "nbformat": 4,
  "nbformat_minor": 0,
  "metadata": {
    "colab": {
      "provenance": [],
      "authorship_tag": "ABX9TyPPRRmxwFH2Ue3PqdYF6/xK",
      "include_colab_link": true
    },
    "kernelspec": {
      "name": "python3",
      "display_name": "Python 3"
    },
    "language_info": {
      "name": "python"
    }
  },
  "cells": [
    {
      "cell_type": "markdown",
      "metadata": {
        "id": "view-in-github",
        "colab_type": "text"
      },
      "source": [
        "<a href=\"https://colab.research.google.com/github/Kinle/collab_langchain/blob/main/LangChain.ipynb\" target=\"_parent\"><img src=\"https://colab.research.google.com/assets/colab-badge.svg\" alt=\"Open In Colab\"/></a>"
      ]
    },
    {
      "cell_type": "code",
      "execution_count": null,
      "metadata": {
        "id": "SbIbCZBD3MJS",
        "colab": {
          "base_uri": "https://localhost:8080/"
        },
        "outputId": "4ddef075-52e7-4403-acea-313774d2d76d"
      },
      "outputs": [
        {
          "output_type": "stream",
          "name": "stdout",
          "text": [
            "Requirement already satisfied: langchain in /usr/local/lib/python3.10/dist-packages (0.0.264)\n",
            "Requirement already satisfied: openai in /usr/local/lib/python3.10/dist-packages (0.27.8)\n",
            "Requirement already satisfied: google-search-results in /usr/local/lib/python3.10/dist-packages (2.4.2)\n",
            "Requirement already satisfied: tweepy in /usr/local/lib/python3.10/dist-packages (4.13.0)\n",
            "Requirement already satisfied: PyYAML>=5.3 in /usr/local/lib/python3.10/dist-packages (from langchain) (6.0.1)\n",
            "Requirement already satisfied: SQLAlchemy<3,>=1.4 in /usr/local/lib/python3.10/dist-packages (from langchain) (2.0.19)\n",
            "Requirement already satisfied: aiohttp<4.0.0,>=3.8.3 in /usr/local/lib/python3.10/dist-packages (from langchain) (3.8.5)\n",
            "Requirement already satisfied: async-timeout<5.0.0,>=4.0.0 in /usr/local/lib/python3.10/dist-packages (from langchain) (4.0.2)\n",
            "Requirement already satisfied: dataclasses-json<0.6.0,>=0.5.7 in /usr/local/lib/python3.10/dist-packages (from langchain) (0.5.14)\n",
            "Requirement already satisfied: langsmith<0.1.0,>=0.0.11 in /usr/local/lib/python3.10/dist-packages (from langchain) (0.0.22)\n",
            "Requirement already satisfied: numexpr<3.0.0,>=2.8.4 in /usr/local/lib/python3.10/dist-packages (from langchain) (2.8.5)\n",
            "Requirement already satisfied: numpy<2,>=1 in /usr/local/lib/python3.10/dist-packages (from langchain) (1.23.5)\n",
            "Requirement already satisfied: openapi-schema-pydantic<2.0,>=1.2 in /usr/local/lib/python3.10/dist-packages (from langchain) (1.2.4)\n",
            "Requirement already satisfied: pydantic<2,>=1 in /usr/local/lib/python3.10/dist-packages (from langchain) (1.10.12)\n",
            "Requirement already satisfied: requests<3,>=2 in /usr/local/lib/python3.10/dist-packages (from langchain) (2.31.0)\n",
            "Requirement already satisfied: tenacity<9.0.0,>=8.1.0 in /usr/local/lib/python3.10/dist-packages (from langchain) (8.2.2)\n",
            "Requirement already satisfied: tqdm in /usr/local/lib/python3.10/dist-packages (from openai) (4.66.0)\n",
            "Requirement already satisfied: oauthlib<4,>=3.2.0 in /usr/local/lib/python3.10/dist-packages (from tweepy) (3.2.2)\n",
            "Requirement already satisfied: requests-oauthlib<2,>=1.2.0 in /usr/local/lib/python3.10/dist-packages (from tweepy) (1.3.1)\n",
            "Requirement already satisfied: attrs>=17.3.0 in /usr/local/lib/python3.10/dist-packages (from aiohttp<4.0.0,>=3.8.3->langchain) (23.1.0)\n",
            "Requirement already satisfied: charset-normalizer<4.0,>=2.0 in /usr/local/lib/python3.10/dist-packages (from aiohttp<4.0.0,>=3.8.3->langchain) (3.2.0)\n",
            "Requirement already satisfied: multidict<7.0,>=4.5 in /usr/local/lib/python3.10/dist-packages (from aiohttp<4.0.0,>=3.8.3->langchain) (6.0.4)\n",
            "Requirement already satisfied: yarl<2.0,>=1.0 in /usr/local/lib/python3.10/dist-packages (from aiohttp<4.0.0,>=3.8.3->langchain) (1.9.2)\n",
            "Requirement already satisfied: frozenlist>=1.1.1 in /usr/local/lib/python3.10/dist-packages (from aiohttp<4.0.0,>=3.8.3->langchain) (1.4.0)\n",
            "Requirement already satisfied: aiosignal>=1.1.2 in /usr/local/lib/python3.10/dist-packages (from aiohttp<4.0.0,>=3.8.3->langchain) (1.3.1)\n",
            "Requirement already satisfied: marshmallow<4.0.0,>=3.18.0 in /usr/local/lib/python3.10/dist-packages (from dataclasses-json<0.6.0,>=0.5.7->langchain) (3.20.1)\n",
            "Requirement already satisfied: typing-inspect<1,>=0.4.0 in /usr/local/lib/python3.10/dist-packages (from dataclasses-json<0.6.0,>=0.5.7->langchain) (0.9.0)\n",
            "Requirement already satisfied: typing-extensions>=4.2.0 in /usr/local/lib/python3.10/dist-packages (from pydantic<2,>=1->langchain) (4.7.1)\n",
            "Requirement already satisfied: idna<4,>=2.5 in /usr/local/lib/python3.10/dist-packages (from requests<3,>=2->langchain) (3.4)\n",
            "Requirement already satisfied: urllib3<3,>=1.21.1 in /usr/local/lib/python3.10/dist-packages (from requests<3,>=2->langchain) (2.0.4)\n",
            "Requirement already satisfied: certifi>=2017.4.17 in /usr/local/lib/python3.10/dist-packages (from requests<3,>=2->langchain) (2023.7.22)\n",
            "Requirement already satisfied: greenlet!=0.4.17 in /usr/local/lib/python3.10/dist-packages (from SQLAlchemy<3,>=1.4->langchain) (2.0.2)\n",
            "Requirement already satisfied: packaging>=17.0 in /usr/local/lib/python3.10/dist-packages (from marshmallow<4.0.0,>=3.18.0->dataclasses-json<0.6.0,>=0.5.7->langchain) (23.1)\n",
            "Requirement already satisfied: mypy-extensions>=0.3.0 in /usr/local/lib/python3.10/dist-packages (from typing-inspect<1,>=0.4.0->dataclasses-json<0.6.0,>=0.5.7->langchain) (1.0.0)\n"
          ]
        }
      ],
      "source": [
        "!pip install langchain openai google-search-results tweepy"
      ]
    },
    {
      "cell_type": "code",
      "source": [
        "from getpass import getpass\n",
        "import os\n",
        "os.environ[\"OPENAI_API_KEY\"] = getpass()"
      ],
      "metadata": {
        "colab": {
          "base_uri": "https://localhost:8080/"
        },
        "id": "Xj-XmsdwuYvC",
        "outputId": "15efbd2f-49b5-45be-d75b-d5a4eec8e65a"
      },
      "execution_count": null,
      "outputs": [
        {
          "name": "stdout",
          "output_type": "stream",
          "text": [
            "··········\n"
          ]
        }
      ]
    },
    {
      "cell_type": "code",
      "source": [
        "os.environ['SERPAPI_API_KEY'] =getpass()"
      ],
      "metadata": {
        "colab": {
          "base_uri": "https://localhost:8080/"
        },
        "id": "WsTGwdE0UxuD",
        "outputId": "0242f17f-8ebf-41c8-ecfc-33d57c500545"
      },
      "execution_count": null,
      "outputs": [
        {
          "name": "stdout",
          "output_type": "stream",
          "text": [
            "··········\n"
          ]
        }
      ]
    },
    {
      "cell_type": "code",
      "source": [
        "from requests import get\n",
        "def scrape_linked_in():\n",
        "  response = get('https://gist.githubusercontent.com/emarco177/0d6a3f93dd06634d95e46a2782ed7490/raw/fad4d7a87e3e934ad52ba2a968bad9eb45128665/eden-marco.json')\n",
        "  data = response.json()\n",
        "  data = {\n",
        "      k: v\n",
        "      for k, v in data.items()\n",
        "      if v not in ([], \"\", \"\", None)\n",
        "      and k not in [\"people_also_viewed\", \"certifications\"]\n",
        "  }\n",
        "  if data.get(\"groups\"):\n",
        "      for group_dict in data.get(\"groups\"):\n",
        "          group_dict.pop(\"profile_pic_url\")\n",
        "\n",
        "  return data\n",
        "\n",
        "\n"
      ],
      "metadata": {
        "id": "7w1GC2xUuv1g"
      },
      "execution_count": null,
      "outputs": []
    },
    {
      "cell_type": "code",
      "source": [
        "from langchain import PromptTemplate\n",
        "from langchain.chat_models import ChatOpenAI\n",
        "\n",
        "from langchain.agents import initialize_agent, Tool, AgentType\n",
        "\n",
        "\n",
        "\n",
        "\n",
        "def lookup_linkedin(name: str) -> str:\n",
        "    llm = ChatOpenAI(temperature=0, model_name=\"gpt-3.5-turbo\")\n",
        "    template = \"\"\"given the full name {name_of_person} I want you to get it me a link to their Linkedin profile page.\n",
        "                          Your answer should contain only a URL\"\"\"\n",
        "\n",
        "    tools_for_agent = [\n",
        "        Tool(\n",
        "            name=\"Crawl Google 4 linkedin profile page\",\n",
        "            func=get_profile_url,\n",
        "            description=\"useful for when you need get the Linkedin Page URL\",\n",
        "        )\n",
        "    ]\n",
        "\n",
        "    agent = initialize_agent(\n",
        "        tools=tools_for_agent,\n",
        "        llm=llm,\n",
        "        agent=AgentType.ZERO_SHOT_REACT_DESCRIPTION,\n",
        "        verbose=True,\n",
        "    )\n",
        "    prompt_template = PromptTemplate(\n",
        "        template=template, input_variables=[\"name_of_person\"]\n",
        "    )\n",
        "\n",
        "    linked_profile_url = agent.run(prompt_template.format_prompt(name_of_person=name))\n",
        "    return linked_profile_url"
      ],
      "metadata": {
        "id": "-q3GkGUQIppo"
      },
      "execution_count": null,
      "outputs": []
    },
    {
      "cell_type": "code",
      "source": [
        "from langchain.serpapi import SerpAPIWrapper\n",
        "\n",
        "class CustomSerpAPIWrapper(SerpAPIWrapper):\n",
        "  def __init__(self):\n",
        "      super(CustomSerpAPIWrapper, self).__init__()\n",
        "\n",
        "  @staticmethod\n",
        "  def _process_response(res: dict) -> str:\n",
        "      \"\"\"Process response from SerpAPI.\"\"\"\n",
        "      if \"error\" in res.keys():\n",
        "          raise ValueError(f\"Got error from SerpAPI: {res['error']}\")\n",
        "      if \"answer_box\" in res.keys() and \"answer\" in res[\"answer_box\"].keys():\n",
        "          toret = res[\"answer_box\"][\"answer\"]\n",
        "      elif \"answer_box\" in res.keys() and \"snippet\" in res[\"answer_box\"].keys():\n",
        "          toret = res[\"answer_box\"][\"snippet\"]\n",
        "      elif (\n",
        "          \"answer_box\" in res.keys()\n",
        "          and \"snippet_highlighted_words\" in res[\"answer_box\"].keys()\n",
        "      ):\n",
        "          toret = res[\"answer_box\"][\"snippet_highlighted_words\"][0]\n",
        "      elif (\n",
        "          \"sports_results\" in res.keys()\n",
        "          and \"game_spotlight\" in res[\"sports_results\"].keys()\n",
        "      ):\n",
        "          toret = res[\"sports_results\"][\"game_spotlight\"]\n",
        "      elif (\n",
        "          \"knowledge_graph\" in res.keys()\n",
        "          and \"description\" in res[\"knowledge_graph\"].keys()\n",
        "      ):\n",
        "          toret = res[\"knowledge_graph\"][\"description\"]\n",
        "      elif \"snippet\" in res[\"organic_results\"][0].keys():\n",
        "          toret = res[\"organic_results\"][0][\"link\"]\n",
        "\n",
        "      else:\n",
        "          toret = \"No good search result found\"\n",
        "      return toret\n",
        "\n",
        "\n",
        "\n",
        "def get_profile_url(name: str):\n",
        "    \"\"\"Searches for Linkedin or twitter Profile Page.\"\"\"\n",
        "    search = CustomSerpAPIWrapper()\n",
        "    res = search.run(f\"{name}\")\n",
        "    return res"
      ],
      "metadata": {
        "id": "-eLMHlwWKdBp"
      },
      "execution_count": null,
      "outputs": []
    },
    {
      "cell_type": "code",
      "source": [
        "from langchain import PromptTemplate\n",
        "from langchain.chat_models import ChatOpenAI\n",
        "from langchain.chains import LLMChain\n",
        "\n",
        "information = \"\"\"\n",
        "    Kamal Haasan (born Parthasarathy Srinivasan on 7 November 1955)[4] is an Indian actor, filmmaker, screenwriter, playback singer, television presenter and politician who works mainly in Tamil cinema. He has also appeared in some Malayalam, Hindi, Telugu, Kannada and Bengali films. He is regarded as one of the finest actors in the Indian cinema. Haasan is also known for introducing many new technologies and cosmetics to the Indian film industry.[5][6][7] He has won numerous accolades, including Four National Film Awards, Nine Tamil Nadu State Film Awards, Four Nandi Awards, One Rashtrapati Award, Two Filmfare Awards and 17 Filmfare Awards South. He was awarded the Kalaimamani Award in 1984, the Padma Shri in 1990, the Padma Bhushan in 2014 and the Ordre des Arts et des Lettres (Chevalier) in 2016.[8]\n",
        "\n",
        "Haasan started his career as a child artist in the 1960 Tamil-language film Kalathur Kannamma, for which he won the President's Gold Medal. His breakthrough as a lead actor came in the 1975 drama Apoorva Raagangal, directed by K. Balachander, in which he played a rebellious youth who falls in love with an older woman. He won his first National Film Award for his portrayal of a guileless school teacher who cares for a woman who suffers from retrograde amnesia in Moondram Pirai (1982). He was noted for his performances in K. Viswanath's Sagara Sangamam (1983), Swathi Muthyam (1986), Mani Ratnam's Nayakan (1987), Singeetam Srinivasa Rao's \"Pushpak\" (1987), Suresh Krissna 's \"Sathyaa\"(1988), Singeetam Srinivasa Rao 's \"Apoorva Sagodharargal\" (1989), Santhana Bharathi 's \"Guna\" (1991) and \"Mahanadi\" (1994). Since then he has appeared in films including Hey Ram (2000), Virumaandi (2004), Dasavathaaram (2008) in which he played ten roles, Vishwaroopam (2013) and Vikram (2022). His production company, Raaj Kamal Films International, has produced several of his films.\n",
        "\n",
        "For his philanthropic efforts, Haasan received the first Abraham Kovoor National Award in 2004. He was project ambassador for the Hridayaragam 2010 event, which raised funds for an orphanage for HIV/AIDS-affected children. In September 2010, Haasan launched a children's cancer relief fund and gave roses to children with cancer at Sri Ramachandra University in Porur, Chennai. Haasan was nominated by the Indian Prime Minister Narendra Modi for the Swachh Bharat Mission. On 21 February 2018, Haasan formally launched his political party, Makkal Needhi Maiam (lit. People's Justice Centre).[9] He has also received the Golden Visa from United Arab Emirates.[10]\n",
        "    \"\"\"\n",
        "summary_template = \"\"\"\n",
        "         given the linkedin information {information} about a person from I want you to create:\n",
        "         1. a short summary\n",
        "         2. two interesting facts about them\n",
        "\"\"\"\n",
        "\n",
        "summary_prompt_template = PromptTemplate(\n",
        "    input_variables=[\"information\"], template=summary_template\n",
        ")\n",
        "\n",
        "llm = ChatOpenAI(temperature=0, model_name=\"gpt-3.5-turbo\")\n",
        "\n",
        "chain = LLMChain(llm=llm, prompt=summary_prompt_template)\n",
        "\n",
        "# print(chain.run(information=scrape_linked_in()))\n",
        "lookup_linkedin(\"Kinle A G\")"
      ],
      "metadata": {
        "colab": {
          "base_uri": "https://localhost:8080/"
        },
        "id": "kZ1WpYhBtQuR",
        "outputId": "9fdc6147-8468-4c9d-ca69-465603766b63"
      },
      "execution_count": null,
      "outputs": [
        {
          "output_type": "stream",
          "name": "stdout",
          "text": [
            "1. Short Summary:\n",
            "Eden Marco is a Customer Engineer at Google, based in Tel Aviv, Israel. He is also a best-selling instructor on Udemy, specializing in backend development. With a background in software engineering, Eden has worked at companies like Orca Security and Wizer before joining Google. He holds a Bachelor's Degree in Computer Science from Technion - Israel Institute of Technology.\n",
            "\n",
            "2. Two Interesting Facts:\n",
            "- Eden Marco has achieved significant success as an independent Udemy instructor, with two best-selling courses on the platform. His courses have attracted over 9,000 enrolled students and received more than 800 ratings, maintaining an impressive average rating of 4.7 stars.\n",
            "- Prior to his career in the tech industry, Eden served as a Captain in the Israel Defense Forces. This experience likely provided him with valuable leadership skills and a strong sense of discipline that he brings to his current role as a Customer Engineer at Google.\n"
          ]
        }
      ]
    },
    {
      "cell_type": "code",
      "source": [
        "print(lookup_linkedin(\"Kinle A G\"))"
      ],
      "metadata": {
        "colab": {
          "base_uri": "https://localhost:8080/"
        },
        "id": "praoS6moFNV3",
        "outputId": "37743296-b80d-43e2-d6cf-80e97538c132"
      },
      "execution_count": null,
      "outputs": [
        {
          "output_type": "stream",
          "name": "stdout",
          "text": [
            "\n",
            "\n",
            "\u001b[1m> Entering new AgentExecutor chain...\u001b[0m\n",
            "\u001b[32;1m\u001b[1;3mI need to find the Linkedin profile page for the person with the full name \"Kinle A G\".\n",
            "Action: Crawl Google 4 linkedin profile page\n",
            "Action Input: \"Kinle A G Linkedin\"\u001b[0m\n",
            "Observation: \u001b[36;1m\u001b[1;3m{'position': 1, 'title': 'Kinle A G - Technical Lead - Thoughtworks', 'link': 'https://in.linkedin.com/in/kinle-greshka', 'displayed_link': 'LinkedIn · 230+ followers', 'snippet': 'Kinle A G. Consultant • Technology Enthusiast • Mentor. ThoughtworksHindustan University Chennai. Coimbatore North, Tamil Nadu, India.', 'snippet_highlighted_words': ['Kinle A G'], 'about_this_result': {'keywords': ['kinle', 'ag', 'linkedin'], 'related_keywords': ['a g'], 'languages': ['English'], 'regions': ['United States']}, 'source': 'Kinle A G'}\u001b[0m\n",
            "Thought:\u001b[32;1m\u001b[1;3mThe Linkedin profile page for \"Kinle A G\" is https://in.linkedin.com/in/kinle-greshka.\n",
            "Final Answer: https://in.linkedin.com/in/kinle-greshka\u001b[0m\n",
            "\n",
            "\u001b[1m> Finished chain.\u001b[0m\n",
            "https://in.linkedin.com/in/kinle-greshka\n"
          ]
        }
      ]
    },
    {
      "cell_type": "code",
      "source": [
        "from langchain import PromptTemplate\n",
        "from langchain.chat_models import ChatOpenAI\n",
        "\n",
        "from langchain.agents import initialize_agent, Tool, AgentType\n",
        "\n",
        "\n",
        "\n",
        "\n",
        "def lookup_twitter(name: str) -> str:\n",
        "    llm = ChatOpenAI(temperature=0, model_name=\"gpt-3.5-turbo\")\n",
        "    template = \"\"\"given the full name {name_of_person} I want you to get it me a link to their Twitter profile page and get username.\n",
        "                          Your answer should only be the username\"\"\"\n",
        "\n",
        "    tools_for_agent = [\n",
        "        Tool(\n",
        "            name=\"Crawl Google 4 twitter profile page\",\n",
        "            func=get_profile_url,\n",
        "            description=\"useful for when you need get the Twitter Page URL\",\n",
        "        )\n",
        "    ]\n",
        "\n",
        "    agent = initialize_agent(\n",
        "        tools=tools_for_agent,\n",
        "        llm=llm,\n",
        "        agent=AgentType.ZERO_SHOT_REACT_DESCRIPTION,\n",
        "        verbose=True,\n",
        "    )\n",
        "    prompt_template = PromptTemplate(\n",
        "        template=template, input_variables=[\"name_of_person\"]\n",
        "    )\n",
        "\n",
        "    username = agent.run(prompt_template.format_prompt(name_of_person=name))\n",
        "    return username"
      ],
      "metadata": {
        "id": "SdGN_pJ2a5-F"
      },
      "execution_count": null,
      "outputs": []
    },
    {
      "cell_type": "code",
      "source": [
        "lookup_twitter(\"Elon Musk\")"
      ],
      "metadata": {
        "colab": {
          "base_uri": "https://localhost:8080/",
          "height": 385
        },
        "id": "ZmaKlqFybWCs",
        "outputId": "5c32aabb-2531-4de4-e52e-0d51fc010b06"
      },
      "execution_count": null,
      "outputs": [
        {
          "output_type": "stream",
          "name": "stdout",
          "text": [
            "\n",
            "\n",
            "\u001b[1m> Entering new AgentExecutor chain...\u001b[0m\n",
            "\u001b[32;1m\u001b[1;3mI need to find the Twitter profile page of Elon Musk and extract the username.\n",
            "Action: Crawl Google 4 twitter profile page\n",
            "Action Input: Elon Musk\u001b[0m\n",
            "Observation: \u001b[36;1m\u001b[1;3mElon Reeve Musk is a business magnate and investor. Musk is the founder, chairman, CEO and chief technology officer of SpaceX, angel investor, CEO and product architect of Tesla, Inc., owner, chairman ...\u001b[0m\n",
            "Thought:\u001b[32;1m\u001b[1;3mI need to refine my search to specifically find Elon Musk's Twitter profile page.\n",
            "Action: Crawl Google 4 twitter profile page\n",
            "Action Input: Elon Musk Twitter\u001b[0m\n",
            "Observation: \u001b[36;1m\u001b[1;3mElon Musk completed his acquisition of Twitter in October 2022; Musk acted as CEO of Twitter until he stepped down in June 2023 and was replaced by Linda Yaccarino. During that timeframe, the company introduced a series of reforms and management changes.\u001b[0m\n",
            "Thought:\u001b[32;1m\u001b[1;3mI need to try a different search query to find Elon Musk's Twitter profile page.\n",
            "Action: Crawl Google 4 twitter profile page\n",
            "Action Input: Elon Musk Twitter profile\u001b[0m\n",
            "Observation: \u001b[36;1m\u001b[1;3mhttps://twitter.com/elonmusk/with_replies\u001b[0m\n",
            "Thought:\u001b[32;1m\u001b[1;3mI have found Elon Musk's Twitter profile page.\n",
            "Final Answer: The username for Elon Musk's Twitter profile page is @elonmusk.\u001b[0m\n",
            "\n",
            "\u001b[1m> Finished chain.\u001b[0m\n"
          ]
        },
        {
          "output_type": "execute_result",
          "data": {
            "text/plain": [
              "\"The username for Elon Musk's Twitter profile page is @elonmusk.\""
            ],
            "application/vnd.google.colaboratory.intrinsic+json": {
              "type": "string"
            }
          },
          "metadata": {},
          "execution_count": 35
        }
      ]
    }
  ]
}